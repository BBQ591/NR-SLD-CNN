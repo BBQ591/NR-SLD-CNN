{
 "cells": [
  {
   "cell_type": "code",
   "execution_count": 1,
   "id": "93ab21dc-fd84-4bd7-8e46-9b4cc07e7f0e",
   "metadata": {
    "tags": []
   },
   "outputs": [
    {
     "name": "stdout",
     "output_type": "stream",
     "text": [
      "Defaulting to user installation because normal site-packages is not writeable\n",
      "Requirement already satisfied: refl1d in /global/homes/q/qubri000/.local/perlmutter/python-3.11/lib/python3.11/site-packages (0.8.16)\n",
      "Requirement already satisfied: bumps>=0.7.16 in /global/homes/q/qubri000/.local/perlmutter/python-3.11/lib/python3.11/site-packages (from refl1d) (0.9.1)\n",
      "Requirement already satisfied: numpy in /global/common/software/nersc/pe/conda-envs/23.10.0/python-3.11/nersc-python/lib/python3.11/site-packages (from refl1d) (1.24.4)\n",
      "Requirement already satisfied: scipy in /global/common/software/nersc/pe/conda-envs/23.10.0/python-3.11/nersc-python/lib/python3.11/site-packages (from refl1d) (1.11.3)\n",
      "Requirement already satisfied: matplotlib in /global/common/software/nersc/pe/conda-envs/23.10.0/python-3.11/nersc-python/lib/python3.11/site-packages (from refl1d) (3.8.0)\n",
      "Requirement already satisfied: periodictable in /global/homes/q/qubri000/.local/perlmutter/python-3.11/lib/python3.11/site-packages (from refl1d) (1.6.1)\n",
      "Requirement already satisfied: numba in /global/common/software/nersc/pe/conda-envs/23.10.0/python-3.11/nersc-python/lib/python3.11/site-packages (from refl1d) (0.57.1)\n",
      "Requirement already satisfied: six in /global/common/software/nersc/pe/conda-envs/23.10.0/python-3.11/nersc-python/lib/python3.11/site-packages (from bumps>=0.7.16->refl1d) (1.16.0)\n",
      "Requirement already satisfied: contourpy>=1.0.1 in /global/common/software/nersc/pe/conda-envs/23.10.0/python-3.11/nersc-python/lib/python3.11/site-packages (from matplotlib->refl1d) (1.1.1)\n",
      "Requirement already satisfied: cycler>=0.10 in /global/common/software/nersc/pe/conda-envs/23.10.0/python-3.11/nersc-python/lib/python3.11/site-packages (from matplotlib->refl1d) (0.12.0)\n",
      "Requirement already satisfied: fonttools>=4.22.0 in /global/common/software/nersc/pe/conda-envs/23.10.0/python-3.11/nersc-python/lib/python3.11/site-packages (from matplotlib->refl1d) (4.43.1)\n",
      "Requirement already satisfied: kiwisolver>=1.0.1 in /global/common/software/nersc/pe/conda-envs/23.10.0/python-3.11/nersc-python/lib/python3.11/site-packages (from matplotlib->refl1d) (1.4.5)\n",
      "Requirement already satisfied: packaging>=20.0 in /global/common/software/nersc/pe/conda-envs/23.10.0/python-3.11/nersc-python/lib/python3.11/site-packages (from matplotlib->refl1d) (23.2)\n",
      "Requirement already satisfied: pillow>=6.2.0 in /global/common/software/nersc/pe/conda-envs/23.10.0/python-3.11/nersc-python/lib/python3.11/site-packages (from matplotlib->refl1d) (10.0.0)\n",
      "Requirement already satisfied: pyparsing>=2.3.1 in /global/common/software/nersc/pe/conda-envs/23.10.0/python-3.11/nersc-python/lib/python3.11/site-packages (from matplotlib->refl1d) (3.1.1)\n",
      "Requirement already satisfied: python-dateutil>=2.7 in /global/common/software/nersc/pe/conda-envs/23.10.0/python-3.11/nersc-python/lib/python3.11/site-packages (from matplotlib->refl1d) (2.8.2)\n",
      "Requirement already satisfied: llvmlite<0.41,>=0.40.0dev0 in /global/common/software/nersc/pe/conda-envs/23.10.0/python-3.11/nersc-python/lib/python3.11/site-packages (from numba->refl1d) (0.40.1)\n",
      "Note: you may need to restart the kernel to use updated packages.\n"
     ]
    }
   ],
   "source": [
    "pip install refl1d\n"
   ]
  },
  {
   "cell_type": "code",
   "execution_count": 2,
   "id": "ca6ca005-2302-43d9-aed3-bd71a75bda7d",
   "metadata": {},
   "outputs": [
    {
     "name": "stdout",
     "output_type": "stream",
     "text": [
      "Defaulting to user installation because normal site-packages is not writeable\n",
      "Requirement already satisfied: seaborn in /global/common/software/nersc/pe/conda-envs/23.10.0/python-3.11/nersc-python/lib/python3.11/site-packages (0.13.0)\n",
      "Requirement already satisfied: numpy!=1.24.0,>=1.20 in /global/common/software/nersc/pe/conda-envs/23.10.0/python-3.11/nersc-python/lib/python3.11/site-packages (from seaborn) (1.24.4)\n",
      "Requirement already satisfied: pandas>=1.2 in /global/common/software/nersc/pe/conda-envs/23.10.0/python-3.11/nersc-python/lib/python3.11/site-packages (from seaborn) (2.1.1)\n",
      "Requirement already satisfied: matplotlib!=3.6.1,>=3.3 in /global/common/software/nersc/pe/conda-envs/23.10.0/python-3.11/nersc-python/lib/python3.11/site-packages (from seaborn) (3.8.0)\n",
      "Requirement already satisfied: contourpy>=1.0.1 in /global/common/software/nersc/pe/conda-envs/23.10.0/python-3.11/nersc-python/lib/python3.11/site-packages (from matplotlib!=3.6.1,>=3.3->seaborn) (1.1.1)\n",
      "Requirement already satisfied: cycler>=0.10 in /global/common/software/nersc/pe/conda-envs/23.10.0/python-3.11/nersc-python/lib/python3.11/site-packages (from matplotlib!=3.6.1,>=3.3->seaborn) (0.12.0)\n",
      "Requirement already satisfied: fonttools>=4.22.0 in /global/common/software/nersc/pe/conda-envs/23.10.0/python-3.11/nersc-python/lib/python3.11/site-packages (from matplotlib!=3.6.1,>=3.3->seaborn) (4.43.1)\n",
      "Requirement already satisfied: kiwisolver>=1.0.1 in /global/common/software/nersc/pe/conda-envs/23.10.0/python-3.11/nersc-python/lib/python3.11/site-packages (from matplotlib!=3.6.1,>=3.3->seaborn) (1.4.5)\n",
      "Requirement already satisfied: packaging>=20.0 in /global/common/software/nersc/pe/conda-envs/23.10.0/python-3.11/nersc-python/lib/python3.11/site-packages (from matplotlib!=3.6.1,>=3.3->seaborn) (23.2)\n",
      "Requirement already satisfied: pillow>=6.2.0 in /global/common/software/nersc/pe/conda-envs/23.10.0/python-3.11/nersc-python/lib/python3.11/site-packages (from matplotlib!=3.6.1,>=3.3->seaborn) (10.0.0)\n",
      "Requirement already satisfied: pyparsing>=2.3.1 in /global/common/software/nersc/pe/conda-envs/23.10.0/python-3.11/nersc-python/lib/python3.11/site-packages (from matplotlib!=3.6.1,>=3.3->seaborn) (3.1.1)\n",
      "Requirement already satisfied: python-dateutil>=2.7 in /global/common/software/nersc/pe/conda-envs/23.10.0/python-3.11/nersc-python/lib/python3.11/site-packages (from matplotlib!=3.6.1,>=3.3->seaborn) (2.8.2)\n",
      "Requirement already satisfied: pytz>=2020.1 in /global/common/software/nersc/pe/conda-envs/23.10.0/python-3.11/nersc-python/lib/python3.11/site-packages (from pandas>=1.2->seaborn) (2023.3.post1)\n",
      "Requirement already satisfied: tzdata>=2022.1 in /global/common/software/nersc/pe/conda-envs/23.10.0/python-3.11/nersc-python/lib/python3.11/site-packages (from pandas>=1.2->seaborn) (2023.3)\n",
      "Requirement already satisfied: six>=1.5 in /global/common/software/nersc/pe/conda-envs/23.10.0/python-3.11/nersc-python/lib/python3.11/site-packages (from python-dateutil>=2.7->matplotlib!=3.6.1,>=3.3->seaborn) (1.16.0)\n",
      "Note: you may need to restart the kernel to use updated packages.\n"
     ]
    }
   ],
   "source": [
    "pip install seaborn"
   ]
  },
  {
   "cell_type": "code",
   "execution_count": 3,
   "id": "1625ab69-1374-407b-934c-648229fadec7",
   "metadata": {
    "tags": []
   },
   "outputs": [
    {
     "name": "stdout",
     "output_type": "stream",
     "text": [
      "Defaulting to user installation because normal site-packages is not writeable\n",
      "Requirement already satisfied: plotly in /global/homes/q/qubri000/.local/perlmutter/python-3.11/lib/python3.11/site-packages (5.18.0)\n",
      "Requirement already satisfied: tenacity>=6.2.0 in /global/homes/q/qubri000/.local/perlmutter/python-3.11/lib/python3.11/site-packages (from plotly) (8.2.3)\n",
      "Requirement already satisfied: packaging in /global/common/software/nersc/pe/conda-envs/23.10.0/python-3.11/nersc-python/lib/python3.11/site-packages (from plotly) (23.2)\n",
      "Note: you may need to restart the kernel to use updated packages.\n"
     ]
    }
   ],
   "source": [
    "pip install plotly"
   ]
  },
  {
   "cell_type": "code",
   "execution_count": 4,
   "id": "cbc99e4d-23c9-437a-975e-179a1c2f1f32",
   "metadata": {
    "tags": []
   },
   "outputs": [
    {
     "name": "stdout",
     "output_type": "stream",
     "text": [
      "Defaulting to user installation because normal site-packages is not writeable\n",
      "Requirement already satisfied: ipympl in /global/common/software/nersc/pe/conda-envs/23.10.0/python-3.11/nersc-python/lib/python3.11/site-packages (0.9.3)\n",
      "Requirement already satisfied: ipython<9 in /global/common/software/nersc/pe/conda-envs/23.10.0/python-3.11/nersc-python/lib/python3.11/site-packages (from ipympl) (8.16.1)\n",
      "Requirement already satisfied: numpy in /global/common/software/nersc/pe/conda-envs/23.10.0/python-3.11/nersc-python/lib/python3.11/site-packages (from ipympl) (1.24.4)\n",
      "Requirement already satisfied: ipython-genutils in /global/common/software/nersc/pe/conda-envs/23.10.0/python-3.11/nersc-python/lib/python3.11/site-packages (from ipympl) (0.2.0)\n",
      "Requirement already satisfied: pillow in /global/common/software/nersc/pe/conda-envs/23.10.0/python-3.11/nersc-python/lib/python3.11/site-packages (from ipympl) (10.0.0)\n",
      "Requirement already satisfied: traitlets<6 in /global/common/software/nersc/pe/conda-envs/23.10.0/python-3.11/nersc-python/lib/python3.11/site-packages (from ipympl) (5.11.2)\n",
      "Requirement already satisfied: ipywidgets<9,>=7.6.0 in /global/common/software/nersc/pe/conda-envs/23.10.0/python-3.11/nersc-python/lib/python3.11/site-packages (from ipympl) (8.1.1)\n",
      "Requirement already satisfied: matplotlib<4,>=3.4.0 in /global/common/software/nersc/pe/conda-envs/23.10.0/python-3.11/nersc-python/lib/python3.11/site-packages (from ipympl) (3.8.0)\n",
      "Requirement already satisfied: backcall in /global/common/software/nersc/pe/conda-envs/23.10.0/python-3.11/nersc-python/lib/python3.11/site-packages (from ipython<9->ipympl) (0.2.0)\n",
      "Requirement already satisfied: decorator in /global/common/software/nersc/pe/conda-envs/23.10.0/python-3.11/nersc-python/lib/python3.11/site-packages (from ipython<9->ipympl) (5.1.1)\n",
      "Requirement already satisfied: jedi>=0.16 in /global/common/software/nersc/pe/conda-envs/23.10.0/python-3.11/nersc-python/lib/python3.11/site-packages (from ipython<9->ipympl) (0.19.1)\n",
      "Requirement already satisfied: matplotlib-inline in /global/common/software/nersc/pe/conda-envs/23.10.0/python-3.11/nersc-python/lib/python3.11/site-packages (from ipython<9->ipympl) (0.1.6)\n",
      "Requirement already satisfied: pickleshare in /global/common/software/nersc/pe/conda-envs/23.10.0/python-3.11/nersc-python/lib/python3.11/site-packages (from ipython<9->ipympl) (0.7.5)\n",
      "Requirement already satisfied: prompt-toolkit!=3.0.37,<3.1.0,>=3.0.30 in /global/common/software/nersc/pe/conda-envs/23.10.0/python-3.11/nersc-python/lib/python3.11/site-packages (from ipython<9->ipympl) (3.0.39)\n",
      "Requirement already satisfied: pygments>=2.4.0 in /global/common/software/nersc/pe/conda-envs/23.10.0/python-3.11/nersc-python/lib/python3.11/site-packages (from ipython<9->ipympl) (2.16.1)\n",
      "Requirement already satisfied: stack-data in /global/common/software/nersc/pe/conda-envs/23.10.0/python-3.11/nersc-python/lib/python3.11/site-packages (from ipython<9->ipympl) (0.6.2)\n",
      "Requirement already satisfied: pexpect>4.3 in /global/common/software/nersc/pe/conda-envs/23.10.0/python-3.11/nersc-python/lib/python3.11/site-packages (from ipython<9->ipympl) (4.8.0)\n",
      "Requirement already satisfied: comm>=0.1.3 in /global/common/software/nersc/pe/conda-envs/23.10.0/python-3.11/nersc-python/lib/python3.11/site-packages (from ipywidgets<9,>=7.6.0->ipympl) (0.1.4)\n",
      "Requirement already satisfied: widgetsnbextension~=4.0.9 in /global/common/software/nersc/pe/conda-envs/23.10.0/python-3.11/nersc-python/lib/python3.11/site-packages (from ipywidgets<9,>=7.6.0->ipympl) (4.0.9)\n",
      "Requirement already satisfied: jupyterlab-widgets~=3.0.9 in /global/common/software/nersc/pe/conda-envs/23.10.0/python-3.11/nersc-python/lib/python3.11/site-packages (from ipywidgets<9,>=7.6.0->ipympl) (3.0.9)\n",
      "Requirement already satisfied: contourpy>=1.0.1 in /global/common/software/nersc/pe/conda-envs/23.10.0/python-3.11/nersc-python/lib/python3.11/site-packages (from matplotlib<4,>=3.4.0->ipympl) (1.1.1)\n",
      "Requirement already satisfied: cycler>=0.10 in /global/common/software/nersc/pe/conda-envs/23.10.0/python-3.11/nersc-python/lib/python3.11/site-packages (from matplotlib<4,>=3.4.0->ipympl) (0.12.0)\n",
      "Requirement already satisfied: fonttools>=4.22.0 in /global/common/software/nersc/pe/conda-envs/23.10.0/python-3.11/nersc-python/lib/python3.11/site-packages (from matplotlib<4,>=3.4.0->ipympl) (4.43.1)\n",
      "Requirement already satisfied: kiwisolver>=1.0.1 in /global/common/software/nersc/pe/conda-envs/23.10.0/python-3.11/nersc-python/lib/python3.11/site-packages (from matplotlib<4,>=3.4.0->ipympl) (1.4.5)\n",
      "Requirement already satisfied: packaging>=20.0 in /global/common/software/nersc/pe/conda-envs/23.10.0/python-3.11/nersc-python/lib/python3.11/site-packages (from matplotlib<4,>=3.4.0->ipympl) (23.2)\n",
      "Requirement already satisfied: pyparsing>=2.3.1 in /global/common/software/nersc/pe/conda-envs/23.10.0/python-3.11/nersc-python/lib/python3.11/site-packages (from matplotlib<4,>=3.4.0->ipympl) (3.1.1)\n",
      "Requirement already satisfied: python-dateutil>=2.7 in /global/common/software/nersc/pe/conda-envs/23.10.0/python-3.11/nersc-python/lib/python3.11/site-packages (from matplotlib<4,>=3.4.0->ipympl) (2.8.2)\n",
      "Requirement already satisfied: parso<0.9.0,>=0.8.3 in /global/common/software/nersc/pe/conda-envs/23.10.0/python-3.11/nersc-python/lib/python3.11/site-packages (from jedi>=0.16->ipython<9->ipympl) (0.8.3)\n",
      "Requirement already satisfied: ptyprocess>=0.5 in /global/common/software/nersc/pe/conda-envs/23.10.0/python-3.11/nersc-python/lib/python3.11/site-packages (from pexpect>4.3->ipython<9->ipympl) (0.7.0)\n",
      "Requirement already satisfied: wcwidth in /global/common/software/nersc/pe/conda-envs/23.10.0/python-3.11/nersc-python/lib/python3.11/site-packages (from prompt-toolkit!=3.0.37,<3.1.0,>=3.0.30->ipython<9->ipympl) (0.2.8)\n",
      "Requirement already satisfied: six>=1.5 in /global/common/software/nersc/pe/conda-envs/23.10.0/python-3.11/nersc-python/lib/python3.11/site-packages (from python-dateutil>=2.7->matplotlib<4,>=3.4.0->ipympl) (1.16.0)\n",
      "Requirement already satisfied: executing>=1.2.0 in /global/common/software/nersc/pe/conda-envs/23.10.0/python-3.11/nersc-python/lib/python3.11/site-packages (from stack-data->ipython<9->ipympl) (1.2.0)\n",
      "Requirement already satisfied: asttokens>=2.1.0 in /global/common/software/nersc/pe/conda-envs/23.10.0/python-3.11/nersc-python/lib/python3.11/site-packages (from stack-data->ipython<9->ipympl) (2.4.0)\n",
      "Requirement already satisfied: pure-eval in /global/common/software/nersc/pe/conda-envs/23.10.0/python-3.11/nersc-python/lib/python3.11/site-packages (from stack-data->ipython<9->ipympl) (0.2.2)\n",
      "Note: you may need to restart the kernel to use updated packages.\n"
     ]
    }
   ],
   "source": [
    "pip install ipympl"
   ]
  },
  {
   "cell_type": "code",
   "execution_count": 5,
   "id": "eeec45a9-314f-4cc9-a2a8-8bf8fa8d0ddf",
   "metadata": {
    "tags": []
   },
   "outputs": [],
   "source": [
    "#importing python files\n",
    "\n",
    "import sys\n",
    "import os\n",
    "import math\n",
    "import json\n",
    "import numpy as np\n",
    "\n",
    "import refl1d\n",
    "from refl1d.names import *\n",
    "\n",
    "import pandas as pd\n",
    "import numpy as np\n",
    "import pandas as pd\n",
    "import matplotlib.pyplot as plt\n",
    "import matplotlib.lines as mlines\n",
    "%matplotlib inline\n",
    "import seaborn as sea"
   ]
  },
  {
   "cell_type": "code",
   "execution_count": 6,
   "id": "b5afae20-0fa4-4156-9cba-f17d2175f125",
   "metadata": {
    "tags": []
   },
   "outputs": [],
   "source": [
    "#This block is the class that is used to generate the SLD and NR curves\n",
    "\n",
    "from scipy.interpolate import CubicSpline\n",
    "import random\n",
    "def calculate_reflectivity(q, model_description, q_resolution=0.0294855):\n",
    "    \"\"\"\n",
    "        Reflectivity calculation using refl1d\n",
    "    \"\"\"\n",
    "    zeros = np.zeros(len(q))\n",
    "    dq = q_resolution * q / 2.355\n",
    "\n",
    "    # The QProbe object represents the beam\n",
    "    probe = QProbe(q, dq, data=(zeros, zeros))\n",
    "\n",
    "    layers = model_description['layers']\n",
    "    sample = Slab(material=SLD(name=layers[0]['name'],\n",
    "                               rho=layers[0]['sld']), interface=layers[0]['roughness'])\n",
    "    # Add each layer\n",
    "    for l in layers[1:]:\n",
    "        sample = sample | Slab(material=SLD(name=l['name'],\n",
    "                               rho=l['sld'], irho=l['isld']),\n",
    "                               thickness=l['thickness'], interface=l['roughness'])\n",
    "\n",
    "    probe.background = Parameter(value=model_description['background'], name='background')\n",
    "    expt = Experiment(probe=probe, sample=sample)\n",
    "\n",
    "    q, r = expt.reflectivity()\n",
    "    z, sld, _ = expt.smooth_profile()\n",
    "    #this makes all SLD curves have 900 datapoints per curve\n",
    "    zNew = np.linspace(z[0], z[-1], num=900)\n",
    "    newCurve = CubicSpline(z, sld)\n",
    "    sldNew = []\n",
    "    for i in range(zNew.shape[0]):\n",
    "      sldNew.append(newCurve(zNew[i]))\n",
    "    return model_description['scale'] * r, zNew, sldNew\n",
    "class ReflectivityModels(object):\n",
    "        # Neutrons come in from the last item in the list\n",
    "\n",
    "    def __init__(self,q=None, name='polymer'):\n",
    "\n",
    "        self.parameters = [\n",
    "                  dict(i=0, par='roughness', bounds=[6.3, 6.45]),\n",
    "                  # The following is the Si oxide layer\n",
    "                  dict(i=1, par='sld', bounds=[3.47, 3.47]),\n",
    "                  dict(i=1, par='thickness', bounds=[7, 9]),\n",
    "                  dict(i=1, par='roughness', bounds=[3, 4.5]),\n",
    "\n",
    "                  # The next two layers are the polymer\n",
    "                  dict(i=2, par='sld', bounds=[1.5, 2]),\n",
    "                  dict(i=2, par='thickness', bounds=[140,180]),\n",
    "                  dict(i=2, par='roughness', bounds=[0, 10]),\n",
    "                  dict(i=3, par='sld', bounds=[1.5,2]),\n",
    "                  dict(i=3, par='thickness', bounds=[40, 100]),\n",
    "                  dict(i=3, par='roughness', bounds=[0, 1.5]),\n",
    "                 ]\n",
    "        self.model_description = dict(layers=[\n",
    "                                dict(sld=2.07, isld=0, thickness=0, roughness=6.33, name='substrate'),\n",
    "                                dict(sld=3.47, isld=0, thickness=7.42, roughness=4, name='siox'),\n",
    "                                dict(sld=1.65, isld=0, thickness=144.1, roughness=9.71, name='bottom'),\n",
    "                                dict(sld=1.68, isld=0, thickness=95.27, roughness=1, name='bulk'),\n",
    "                                dict(sld=0, isld=0, thickness=0, roughness=0, name='air')\n",
    "                         ],\n",
    "                         scale=1,\n",
    "                         background=0,\n",
    "                        )\n",
    "        # The following are unmodified physical parameters and corresponding reflectivity data\n",
    "        self._pars_array = []\n",
    "        self._refl_array = []\n",
    "        # This creates the SLD curve list\n",
    "        self._smooth_array = []\n",
    "        # The following are the parameters, mapped between -1 and 1.\n",
    "        self._train_pars = []\n",
    "        self._train_data = None\n",
    "        self._config_name = name\n",
    "\n",
    "        if q is None:\n",
    "            self.q = np.logspace(np.log10(0.008101436040354381), np.log10(0.1975709062238298), num=308)\n",
    "        else:\n",
    "            self.q = q\n",
    "\n",
    "    @classmethod\n",
    "    def from_dict(cls, pars, q_array=None):\n",
    "        \"\"\"\n",
    "            Create ReflectivityModels object from a dict that\n",
    "            defines the reflectivity model parameters and how\n",
    "            the training set should be generated.\n",
    "        \"\"\"\n",
    "        m = cls(q_array, name=pars['name'])\n",
    "        m.model_description =  pars['model']\n",
    "        m.parameters = pars['parameters']\n",
    "        return m\n",
    "\n",
    "    def generate(self, n=100):\n",
    "        \"\"\"\n",
    "            Generate a random sample of models\n",
    "        \"\"\"\n",
    "        npars = len(self.parameters)\n",
    "        self._train_pars = np.random.uniform(low=-1, high=1, size=[n, npars])\n",
    "        # Compute model parameters and reflectivity using these values\n",
    "        self.compute_reflectivity()\n",
    "\n",
    "    def to_model_parameters(self, pars):\n",
    "        \"\"\"\n",
    "            Transform an array of parameters to a list of calculable models\n",
    "        \"\"\"\n",
    "        pars_array = np.zeros(pars.shape)\n",
    "\n",
    "        for i, par in enumerate(self.parameters):\n",
    "            a = (par['bounds'][1]-par['bounds'][0])/2.\n",
    "            b = (par['bounds'][1]+par['bounds'][0])/2.\n",
    "            pars_array.T[i] = pars.T[i] * a + b\n",
    "\n",
    "        return pars_array\n",
    "\n",
    "    def compute_reflectivity(self):\n",
    "        \"\"\"\n",
    "            Transform an array of parameters to a list of calculable models\n",
    "            and compute reflectivity\n",
    "        \"\"\"\n",
    "        print(\"Computing reflectivity\")\n",
    "        self._pars_array = self.to_model_parameters(self._train_pars)\n",
    "        # Compute reflectivity\n",
    "        for p in self._pars_array:\n",
    "            _desc = self.get_model_description(p)\n",
    "            r, z, sld = calculate_reflectivity(self.q, _desc)\n",
    "            self._refl_array.append(r)\n",
    "            self._smooth_array.append([z,sld])\n",
    "    def get_model_description(self, pars):\n",
    "        \"\"\"\n",
    "            Convert the parameter list to a model description that we can use\n",
    "            to compute R(q).\n",
    "        \"\"\"\n",
    "        for i, par in enumerate(self.parameters):\n",
    "            self.model_description['layers'][par['i']][par['par']] = pars[i]\n",
    "        return self.model_description\n",
    "\n",
    "    def get_preprocessed_data(self, errors=None):\n",
    "        \"\"\"\n",
    "            Pre-process data\n",
    "            If errors is provided, a random error will be added, taking the errors array\n",
    "            as a relative uncertainty.\n",
    "        \"\"\"\n",
    "        if errors is None:\n",
    "\n",
    "            self._train_data = np.log10(self._refl_array*self.q**2/self.q[0]**2)\n",
    "        else:\n",
    "            _data = self._refl_array * (1.0 + np.random.normal(size=len(errors)) * errors)\n",
    "            # Catch the few cases where we generated a negative intensity and take\n",
    "            # the absolute value\n",
    "            _data[_data<0] = np.fabs(_data[_data<0])\n",
    "            self._train_data = np.log10(_data*self.q**2/self.q[0]**2)\n",
    "\n",
    "        return self._train_pars, self._train_data\n",
    "\n",
    "    def save(self, output_dir=''):\n",
    "        \"\"\"\n",
    "            Save all data relevant to a training set\n",
    "            @param output_dir: directory used to store training sets\n",
    "        \"\"\"\n",
    "        # Save q values\n",
    "        np.save(os.path.join(output_dir, \"%s_q_values\" % self._config_name), self.q)\n",
    "\n",
    "        # Save training set\n",
    "        if self._train_data is not None:\n",
    "            np.save(os.path.join(output_dir, \"%s_data\" % self._config_name), self._train_data)\n",
    "            np.save(os.path.join(output_dir, \"%s_pars\" % self._config_name), self._train_pars)\n",
    "\n",
    "    def load(self, data_dir=''):\n",
    "        self.q = np.load(os.path.join(data_dir, \"%s_q_values.npy\" % self._config_name))\n",
    "        self._train_data = np.load(os.path.join(data_dir, \"%s_data.npy\" % self._config_name))\n",
    "        self._train_pars = np.load(os.path.join(data_dir, \"%s_pars.npy\" % self._config_name))\n",
    "        return self.q, self._train_data, self._train_pars\n"
   ]
  },
  {
   "cell_type": "code",
   "execution_count": 7,
   "id": "e09662ca-cd00-4c86-9b40-f5bb84207170",
   "metadata": {
    "tags": []
   },
   "outputs": [
    {
     "name": "stdout",
     "output_type": "stream",
     "text": [
      "Computing reflectivity\n",
      "(100000, 2, 308) (100000, 2, 900)\n"
     ]
    },
    {
     "data": {
      "text/plain": [
       "<Figure size 800x800 with 0 Axes>"
      ]
     },
     "metadata": {},
     "output_type": "display_data"
    }
   ],
   "source": [
    "m = ReflectivityModels()\n",
    "#generate this many curves\n",
    "m.generate(100000)\n",
    "pars, train_data = m.get_preprocessed_data()\n",
    "min_x = float('inf')\n",
    "max_x = -float('inf')\n",
    "for index in range(len(m._smooth_array)):\n",
    "  min_x = min(m._smooth_array[index][0])\n",
    "  for i in range(len(m._smooth_array[index][0])):\n",
    "    m._smooth_array[index][0][i] -= min_x\n",
    "#uncommenting the following will show plot the NR curves that are generated\n",
    "# for index in range(len(m._refl_array)):\n",
    "#     plt.plot(m._refl_array[index])\n",
    "# plt.yscale(\"log\")\n",
    "# plt.show()\n",
    "\n",
    "#saving values in npy files\n",
    "settingUp = []\n",
    "SLDSet = []\n",
    "for i in range(len(m._smooth_array)):\n",
    "  settingUp.append(np.array([m.q,m._refl_array[i]]))\n",
    "  SLDSet.append(np.array(m._smooth_array[i]))\n",
    "\n",
    "totalStack = np.stack(settingUp)\n",
    "totalParams = np.stack(SLDSet)\n",
    "print(totalStack.shape, totalParams.shape)\n",
    "np.save(\"SLD_CurvesPolySpecial.npy\", totalParams)\n",
    "np.save(\"NR-SLD_CurvesPolySpecial.npy\", totalStack)"
   ]
  },
  {
   "cell_type": "code",
   "execution_count": null,
   "id": "d5284b3f-86f0-4673-af32-b1b6776d6dfa",
   "metadata": {},
   "outputs": [],
   "source": []
  }
 ],
 "metadata": {
  "kernelspec": {
   "display_name": "NERSC Python",
   "language": "python",
   "name": "python3"
  },
  "language_info": {
   "codemirror_mode": {
    "name": "ipython",
    "version": 3
   },
   "file_extension": ".py",
   "mimetype": "text/x-python",
   "name": "python",
   "nbconvert_exporter": "python",
   "pygments_lexer": "ipython3",
   "version": "3.11.6"
  }
 },
 "nbformat": 4,
 "nbformat_minor": 5
}
